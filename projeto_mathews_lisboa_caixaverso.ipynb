{
  "nbformat": 4,
  "nbformat_minor": 0,
  "metadata": {
    "colab": {
      "provenance": [],
      "toc_visible": true,
      "authorship_tag": "ABX9TyNB36b5VFq1rQj7Bz7Uye/b",
      "include_colab_link": true
    },
    "kernelspec": {
      "name": "python3",
      "display_name": "Python 3"
    },
    "language_info": {
      "name": "python"
    }
  },
  "cells": [
    {
      "cell_type": "markdown",
      "metadata": {
        "id": "view-in-github",
        "colab_type": "text"
      },
      "source": [
        "<a href=\"https://colab.research.google.com/github/MathewsLisboa/projeto_caixaverso_logica/blob/main/projeto_mathews_lisboa_caixaverso.ipynb\" target=\"_parent\"><img src=\"https://colab.research.google.com/assets/colab-badge.svg\" alt=\"Open In Colab\"/></a>"
      ]
    },
    {
      "cell_type": "markdown",
      "source": [
        "# Importando o arquvio"
      ],
      "metadata": {
        "id": "_FVTFv5BdMxg"
      }
    },
    {
      "cell_type": "code",
      "execution_count": null,
      "metadata": {
        "colab": {
          "base_uri": "https://localhost:8080/"
        },
        "id": "HewRmnuWcli-",
        "outputId": "cc6a25e3-d618-4fb0-c549-56d430bb5380"
      },
      "outputs": [
        {
          "output_type": "stream",
          "name": "stdout",
          "text": [
            "Using Colab cache for faster access to the 'students-performance-in-exams' dataset.\n",
            "Path to dataset files: /kaggle/input/students-performance-in-exams\n"
          ]
        }
      ],
      "source": [
        "import kagglehub\n",
        "import os\n",
        "import csv\n",
        "import pandas as pd\n",
        "\n",
        "\n",
        "# Download latest version\n",
        "path = kagglehub.dataset_download(\"spscientist/students-performance-in-exams\")\n",
        "print(\"Path to dataset files:\", path)\n",
        "arquivo = os.path.join(path, \"StudentsPerformance.csv\")\n",
        "with open(arquivo, newline='', encoding='utf-8') as f:\n",
        "    reader = csv.DictReader(f)\n",
        "    dados = list(reader)\n",
        "\n"
      ]
    },
    {
      "cell_type": "code",
      "source": [
        "print(\"Número de observações:\", len(dados))"
      ],
      "metadata": {
        "id": "RmT94lI6HVlj",
        "colab": {
          "base_uri": "https://localhost:8080/"
        },
        "outputId": "8f331b27-9619-4ab8-f3b7-b0e554001948"
      },
      "execution_count": null,
      "outputs": [
        {
          "output_type": "stream",
          "name": "stdout",
          "text": [
            "Número de observações: 1000\n"
          ]
        }
      ]
    },
    {
      "cell_type": "code",
      "source": [
        "print(\"Nome das colunas\", list(dados[0].keys()))"
      ],
      "metadata": {
        "colab": {
          "base_uri": "https://localhost:8080/"
        },
        "id": "YCo6wlR7HXF2",
        "outputId": "1fb2a232-0f2a-45c3-8448-24cf5a5540ca"
      },
      "execution_count": null,
      "outputs": [
        {
          "output_type": "stream",
          "name": "stdout",
          "text": [
            "Nome das colunas ['gender', 'race/ethnicity', 'parental level of education', 'lunch', 'test preparation course', 'math score', 'reading score', 'writing score']\n"
          ]
        }
      ]
    },
    {
      "cell_type": "markdown",
      "source": [
        "# Funções e Critérios de aceintação inciais"
      ],
      "metadata": {
        "id": "UzGwiRKgOto8"
      }
    },
    {
      "cell_type": "markdown",
      "source": [],
      "metadata": {
        "id": "NNLq6jDqTrUZ"
      }
    },
    {
      "cell_type": "code",
      "source": [
        "# Adiciona student_id único para cada aluno\n",
        "for i, estudante in enumerate(dados):\n",
        "  estudante['student_id'] = i + 1  # Começa do 1 instead of 0"
      ],
      "metadata": {
        "id": "ijhzggEkO7aY"
      },
      "execution_count": null,
      "outputs": []
    },
    {
      "cell_type": "code",
      "source": [
        "print(\"Nome das colunas\", list(dados[0].keys()))"
      ],
      "metadata": {
        "colab": {
          "base_uri": "https://localhost:8080/"
        },
        "id": "EG7-pej7ToZk",
        "outputId": "550b5bf0-8bb3-4a42-b0ec-e0942cec10a5"
      },
      "execution_count": null,
      "outputs": [
        {
          "output_type": "stream",
          "name": "stdout",
          "text": [
            "Nome das colunas ['gender', 'race/ethnicity', 'parental level of education', 'lunch', 'test preparation course', 'math score', 'reading score', 'writing score', 'student_id']\n"
          ]
        }
      ]
    },
    {
      "cell_type": "code",
      "source": [
        "from collections import defaultdict\n",
        "\n",
        "def indexar_por(registros, chave):\n",
        "  idx = defaultdict(list)\n",
        "  for r in registros:\n",
        "    idx[r[chave]].append(r)\n",
        "  return dict(idx)"
      ],
      "metadata": {
        "id": "zzbWlqziXD08"
      },
      "execution_count": null,
      "outputs": []
    },
    {
      "cell_type": "markdown",
      "source": [
        "## Criar um dicionário indexado por um ID"
      ],
      "metadata": {
        "id": "bmkcKrcKlRY2"
      }
    },
    {
      "cell_type": "code",
      "source": [
        "alunos_por_id = {estudante['student_id']: estudante for estudante in dados}"
      ],
      "metadata": {
        "id": "13OfC58JXMbq"
      },
      "execution_count": null,
      "outputs": []
    },
    {
      "cell_type": "markdown",
      "source": [
        "## Função de busca por ID"
      ],
      "metadata": {
        "id": "FBl8TjD9lVQq"
      }
    },
    {
      "cell_type": "code",
      "source": [
        "# Funções úteis para trabalhar com o dicionário\n",
        "def buscar_aluno_por_id(alunos_dict, student_id):\n",
        "    \"\"\"Busca rápido de aluno por ID\"\"\"\n",
        "    return alunos_dict.get(student_id,None)\n",
        "def obter_alunos_por_ids(alunos_dict, ids_list):\n",
        "    \"\"\"Retorna subconjunto de alunos para uma lista de IDs específica\"\"\"\n",
        "    return {student_id: alunos_dict[student_id] for student_id in ids_list if student_id in alunos_dict}"
      ],
      "metadata": {
        "id": "qxNUZ4OmXzba"
      },
      "execution_count": null,
      "outputs": []
    },
    {
      "cell_type": "code",
      "source": [
        "buscar_aluno_por_id(alunos_dict, 100)"
      ],
      "metadata": {
        "colab": {
          "base_uri": "https://localhost:8080/"
        },
        "id": "_-HajRDNbrln",
        "outputId": "54230849-695c-4c52-cd2e-028543eb4d76"
      },
      "execution_count": null,
      "outputs": [
        {
          "output_type": "execute_result",
          "data": {
            "text/plain": [
              "[{'gender': 'female',\n",
              "  'race/ethnicity': 'group D',\n",
              "  'parental level of education': \"bachelor's degree\",\n",
              "  'lunch': 'standard',\n",
              "  'test preparation course': 'none',\n",
              "  'math score': '65',\n",
              "  'reading score': '67',\n",
              "  'writing score': '62',\n",
              "  'student_id': 100}]"
            ]
          },
          "metadata": {},
          "execution_count": 85
        }
      ]
    },
    {
      "cell_type": "code",
      "source": [
        "obter_alunos_por_ids(alunos_dict,[100,101,102])"
      ],
      "metadata": {
        "colab": {
          "base_uri": "https://localhost:8080/"
        },
        "id": "1Zmr_MhnbA7B",
        "outputId": "a218aa53-26c8-48e6-b540-1a4796fbf1e3"
      },
      "execution_count": null,
      "outputs": [
        {
          "output_type": "execute_result",
          "data": {
            "text/plain": [
              "{100: [{'gender': 'female',\n",
              "   'race/ethnicity': 'group D',\n",
              "   'parental level of education': \"bachelor's degree\",\n",
              "   'lunch': 'standard',\n",
              "   'test preparation course': 'none',\n",
              "   'math score': '65',\n",
              "   'reading score': '67',\n",
              "   'writing score': '62',\n",
              "   'student_id': 100}],\n",
              " 101: [{'gender': 'male',\n",
              "   'race/ethnicity': 'group B',\n",
              "   'parental level of education': 'some college',\n",
              "   'lunch': 'standard',\n",
              "   'test preparation course': 'none',\n",
              "   'math score': '79',\n",
              "   'reading score': '67',\n",
              "   'writing score': '67',\n",
              "   'student_id': 101}],\n",
              " 102: [{'gender': 'male',\n",
              "   'race/ethnicity': 'group D',\n",
              "   'parental level of education': \"bachelor's degree\",\n",
              "   'lunch': 'standard',\n",
              "   'test preparation course': 'completed',\n",
              "   'math score': '68',\n",
              "   'reading score': '74',\n",
              "   'writing score': '74',\n",
              "   'student_id': 102}]}"
            ]
          },
          "metadata": {},
          "execution_count": 86
        }
      ]
    },
    {
      "cell_type": "markdown",
      "source": [
        "## Funlão de adicionar um novo estudante por id"
      ],
      "metadata": {
        "id": "Z7oRFYUnlYON"
      }
    },
    {
      "cell_type": "code",
      "source": [
        "def adicionar_aluno(alunos_dict, student_id, dados_aluno):\n",
        "    \"\"\"\n",
        "    Adiciona um novo aluno ao dicionário verificando se o ID já existe\n",
        "    Args:\n",
        "        alunos_dict (dict): Dicionário de alunos indexado por student_id\n",
        "        student_id (int): ID do aluno a ser adicionado\n",
        "        dados_aluno (dict): Dicionário com os dados do aluno\n",
        "    Returns:\n",
        "        bool: True se adicionado com sucesso, False se falhou\n",
        "    \"\"\"\n",
        "    try:\n",
        "        # Verifica se o ID já existe\n",
        "        if student_id in alunos_dict:\n",
        "            print(f\"ERRO: ID {student_id} já existe no dicionário!\")\n",
        "            print(f\"Aluno existente: {alunos_dict[student_id].get('gender', 'N/A')} - Math: {alunos_dict[student_id].get('math score', 'N/A')}\")\n",
        "            return False\n",
        "\n",
        "        # Adiciona o student_id aos dados do aluno\n",
        "        dados_aluno_com_id = dados_aluno.copy()\n",
        "        dados_aluno_com_id['student_id'] = student_id\n",
        "\n",
        "        # Adiciona ao dicionário\n",
        "        alunos_dict[student_id] = dados_aluno_com_id\n",
        "\n",
        "        print(f\"Aluno com ID {student_id} adicionado com sucesso!\")\n",
        "        return True\n",
        "\n",
        "    except Exception as e:\n",
        "        print(f\"Erro ao adicionar aluno: {e}\")\n",
        "        return False"
      ],
      "metadata": {
        "id": "YT2_ue7CZz9g"
      },
      "execution_count": null,
      "outputs": []
    },
    {
      "cell_type": "code",
      "source": [
        "# Função auxiliar para criar um aluno de exemplo\n",
        "def criar_aluno_exemplo(genero, grupo_etnico, educacao_pais, lanche, curso_prep,\n",
        "                       matematica, leitura, escrita):\n",
        "    \"\"\"Cria um dicionário com dados de aluno no formato correto\"\"\"\n",
        "    return {\n",
        "        'gender': genero,\n",
        "        'race/ethnicity': grupo_etnico,\n",
        "        'parental level of education': educacao_pais,\n",
        "        'lunch': lanche,\n",
        "        'test preparation course': curso_prep,\n",
        "        'math score': str(matematica),\n",
        "        'reading score': str(leitura),\n",
        "        'writing score': str(escrita)\n",
        "    }\n"
      ],
      "metadata": {
        "id": "1nnPJ157aJ_t"
      },
      "execution_count": null,
      "outputs": []
    },
    {
      "cell_type": "code",
      "source": [
        "novo_aluno = criar_aluno_exemplo('male', 'group A', 'bachelor\\'s degree', 'standard', 'completed', 95, 88, 92)\n",
        "adicionar_aluno(alunos_dict,101,novo_aluno)"
      ],
      "metadata": {
        "colab": {
          "base_uri": "https://localhost:8080/"
        },
        "id": "Fi-8POFujgOI",
        "outputId": "c3020237-30f5-4aa4-c31f-98f5823ca1ac"
      },
      "execution_count": null,
      "outputs": [
        {
          "output_type": "stream",
          "name": "stdout",
          "text": [
            "ERRO: ID 101 já existe no dicionário!\n",
            "Erro ao adicionar aluno: 'list' object has no attribute 'get'\n"
          ]
        },
        {
          "output_type": "execute_result",
          "data": {
            "text/plain": [
              "False"
            ]
          },
          "metadata": {},
          "execution_count": 90
        }
      ]
    },
    {
      "cell_type": "code",
      "source": [
        "adicionar_aluno(alunos_dict,1001,novo_aluno)"
      ],
      "metadata": {
        "colab": {
          "base_uri": "https://localhost:8080/"
        },
        "id": "EUV5OaVyj9-q",
        "outputId": "0f8ddeb6-7ec8-4a38-b234-db44e4febead"
      },
      "execution_count": null,
      "outputs": [
        {
          "output_type": "stream",
          "name": "stdout",
          "text": [
            "Aluno com ID 1001 adicionado com sucesso!\n"
          ]
        },
        {
          "output_type": "execute_result",
          "data": {
            "text/plain": [
              "True"
            ]
          },
          "metadata": {},
          "execution_count": 91
        }
      ]
    },
    {
      "cell_type": "markdown",
      "source": [
        "## Função de atuialização de campo"
      ],
      "metadata": {
        "id": "SP1Alca_lepf"
      }
    },
    {
      "cell_type": "code",
      "source": [
        "def atualizar_campo_aluno(alunos_dict, student_id, campo, novo_valor):\n",
        "    \"\"\"\n",
        "    Atualiza um campo específico de um aluno, verificando existência do ID e do campo\n",
        "    Args:\n",
        "        alunos_dict (dict): Dicionário de alunos indexado por student_id\n",
        "        student_id (int): ID do aluno a ser atualizado\n",
        "        campo (str): Nome do campo a ser modificado\n",
        "        novo_valor: Novo valor para o campo\n",
        "    Returns:\n",
        "        bool: True se atualizado com sucesso, False se falhou\n",
        "    \"\"\"\n",
        "    try:\n",
        "        # Verifica se o ID do estudante existe\n",
        "        if student_id not in alunos_dict:\n",
        "            print(f\"ERRO: ID {student_id} não encontrado no dicionário!\")\n",
        "            return False\n",
        "\n",
        "        aluno = alunos_dict[student_id]\n",
        "\n",
        "        # Verifica se o campo existe no aluno\n",
        "        if campo not in aluno:\n",
        "            print(f\"ERRO: Campo '{campo}' não encontrado no aluno ID {student_id}!\")\n",
        "            print(f\"Campos disponíveis: {list(aluno.keys())}\")\n",
        "            return False\n",
        "\n",
        "        # Armazena o valor antigo para mostrar no log\n",
        "        valor_antigo = aluno[campo]\n",
        "\n",
        "        # Atualiza o campo\n",
        "        aluno[campo] = novo_valor\n",
        "\n",
        "        print(f\"Campo atualizado com sucesso!\")\n",
        "        print(f\"Aluno ID: {student_id}\")\n",
        "        print(f\"Campo: '{campo}'\")\n",
        "        print(f\"Valor antigo: '{valor_antigo}'\")\n",
        "        print(f\"Novo valor: '{novo_valor}'\")\n",
        "\n",
        "        return True\n",
        "\n",
        "    except Exception as e:\n",
        "        print(f\"Erro ao atualizar campo: {e}\")\n",
        "        return False"
      ],
      "metadata": {
        "id": "WPsqDfhMaLwS"
      },
      "execution_count": null,
      "outputs": []
    },
    {
      "cell_type": "code",
      "source": [
        "atualizar_campo_aluno(alunos_dict, 1004,'gender','female')"
      ],
      "metadata": {
        "id": "9W5_nlAaikNl",
        "colab": {
          "base_uri": "https://localhost:8080/"
        },
        "outputId": "cbc320b4-f8b9-410b-b23a-44d6b0bdfbee"
      },
      "execution_count": null,
      "outputs": [
        {
          "output_type": "stream",
          "name": "stdout",
          "text": [
            "ERRO: ID 1004 não encontrado no dicionário!\n"
          ]
        },
        {
          "output_type": "execute_result",
          "data": {
            "text/plain": [
              "False"
            ]
          },
          "metadata": {},
          "execution_count": 94
        }
      ]
    },
    {
      "cell_type": "code",
      "source": [
        "atualizar_campo_aluno(alunos_dict, 1001,'genddddder','female')"
      ],
      "metadata": {
        "colab": {
          "base_uri": "https://localhost:8080/"
        },
        "id": "K92PbpbFkQcv",
        "outputId": "d1f27119-7aa4-44b4-dd5a-4a7fdb682767"
      },
      "execution_count": null,
      "outputs": [
        {
          "output_type": "stream",
          "name": "stdout",
          "text": [
            "ERRO: Campo 'genddddder' não encontrado no aluno ID 1001!\n",
            "Campos disponíveis: ['gender', 'race/ethnicity', 'parental level of education', 'lunch', 'test preparation course', 'math score', 'reading score', 'writing score', 'student_id']\n"
          ]
        },
        {
          "output_type": "execute_result",
          "data": {
            "text/plain": [
              "False"
            ]
          },
          "metadata": {},
          "execution_count": 96
        }
      ]
    },
    {
      "cell_type": "code",
      "source": [
        "atualizar_campo_aluno(alunos_dict, 1001,'gender','female')"
      ],
      "metadata": {
        "colab": {
          "base_uri": "https://localhost:8080/"
        },
        "id": "OESmdBE6kTjb",
        "outputId": "2e4524ce-5e9e-4c2d-ad0e-cf0070776517"
      },
      "execution_count": null,
      "outputs": [
        {
          "output_type": "stream",
          "name": "stdout",
          "text": [
            "Campo atualizado com sucesso!\n",
            "Aluno ID: 1001\n",
            "Campo: 'gender'\n",
            "Valor antigo: 'male'\n",
            "Novo valor: 'female'\n"
          ]
        },
        {
          "output_type": "execute_result",
          "data": {
            "text/plain": [
              "True"
            ]
          },
          "metadata": {},
          "execution_count": 97
        }
      ]
    },
    {
      "cell_type": "markdown",
      "source": [
        "## Função de exclusão de um dos alunso por ID"
      ],
      "metadata": {
        "id": "8egdJnt7li0m"
      }
    },
    {
      "cell_type": "code",
      "source": [
        "def excluir_aluno(alunos_dict, student_id):\n",
        "    \"\"\"\n",
        "    Exclui um aluno do dicionário verificando se o ID existe\n",
        "    Args:\n",
        "        alunos_dict (dict): Dicionário de alunos indexado por student_id\n",
        "        student_id (int): ID do aluno a ser excluído\n",
        "    Returns:\n",
        "        bool: True se excluído com sucesso, False se falhou\n",
        "    \"\"\"\n",
        "    try:\n",
        "        # Verifica se o ID do estudante existe\n",
        "        if student_id not in alunos_dict:\n",
        "            print(f\"ERRO: ID {student_id} não encontrado no dicionário!\")\n",
        "            return False\n",
        "\n",
        "        # Armazena os dados do aluno antes de excluir para mostrar no log\n",
        "        aluno_excluido = alunos_dict[student_id]\n",
        "\n",
        "        # Remove o aluno do dicionário\n",
        "        del alunos_dict[student_id]\n",
        "        return True\n",
        "\n",
        "    except Exception as e:\n",
        "        print(f\"Erro ao excluir aluno: {e}\")\n",
        "        return False"
      ],
      "metadata": {
        "id": "Dd3YQu4jkXSw"
      },
      "execution_count": null,
      "outputs": []
    },
    {
      "cell_type": "code",
      "source": [
        "excluir_aluno(alunos_dict,1001)"
      ],
      "metadata": {
        "colab": {
          "base_uri": "https://localhost:8080/"
        },
        "id": "IGndGxbylHSw",
        "outputId": "4c01da1f-a1af-48e9-c48a-70f1d6b0b1b5"
      },
      "execution_count": null,
      "outputs": [
        {
          "output_type": "execute_result",
          "data": {
            "text/plain": [
              "True"
            ]
          },
          "metadata": {},
          "execution_count": 100
        }
      ]
    },
    {
      "cell_type": "markdown",
      "source": [
        "# Análise Exploratória"
      ],
      "metadata": {
        "id": "ZZqz_DgMlpUd"
      }
    },
    {
      "cell_type": "code",
      "source": [
        "dados[0].keys()"
      ],
      "metadata": {
        "colab": {
          "base_uri": "https://localhost:8080/"
        },
        "id": "BlWc8X0Bm1UD",
        "outputId": "2e78139b-96a3-4add-e230-4ccf2d041167"
      },
      "execution_count": null,
      "outputs": [
        {
          "output_type": "execute_result",
          "data": {
            "text/plain": [
              "dict_keys(['gender', 'race/ethnicity', 'parental level of education', 'lunch', 'test preparation course', 'math score', 'reading score', 'writing score', 'student_id'])"
            ]
          },
          "metadata": {},
          "execution_count": 104
        }
      ]
    },
    {
      "cell_type": "code",
      "source": [
        "# Verificar None/valores vazios (exceto student_id)\n",
        "print(\"Valores None ou vazios por variável:\")\n",
        "for chave in dados[0].keys():\n",
        "    if chave != 'student_id':\n",
        "        count_na = sum(1 for aluno in dados if aluno[chave] is None or aluno[chave] == '' or aluno[chave].strip() == '')\n",
        "        print(f\"{chave}: {count_na}\")"
      ],
      "metadata": {
        "colab": {
          "base_uri": "https://localhost:8080/"
        },
        "id": "LGPmoz-Gl-6_",
        "outputId": "a54f0994-892e-4949-b9d2-39c432c2dff6"
      },
      "execution_count": null,
      "outputs": [
        {
          "output_type": "stream",
          "name": "stdout",
          "text": [
            "Valores None ou vazios por variável:\n",
            "gender: 0\n",
            "race/ethnicity: 0\n",
            "parental level of education: 0\n",
            "lunch: 0\n",
            "test preparation course: 0\n",
            "math score: 0\n",
            "reading score: 0\n",
            "writing score: 0\n"
          ]
        }
      ]
    },
    {
      "cell_type": "markdown",
      "source": [
        " Agora que eu sei que não há valores vazios para se tratar vamos fazer algumas análises"
      ],
      "metadata": {
        "id": "82XPskMBoJkr"
      }
    },
    {
      "cell_type": "markdown",
      "source": [
        "### Estudo por Gênero"
      ],
      "metadata": {
        "id": "IjXGElPUpfuV"
      }
    },
    {
      "cell_type": "code",
      "source": [
        "contagem = {}\n",
        "for aluno in dados:\n",
        "    genero = aluno['gender']\n",
        "    contagem[genero] = contagem.get(genero, 0) + 1\n",
        "\n",
        "print(\"Número de estudantes por gênero:\")\n",
        "for genero, quantidade in contagem.items():\n",
        "    print(f\"{genero}: {quantidade}\")"
      ],
      "metadata": {
        "colab": {
          "base_uri": "https://localhost:8080/"
        },
        "id": "6GvHWj2an-nd",
        "outputId": "bc3d4dd0-11cf-4771-f9e2-90c360ef6d9b"
      },
      "execution_count": null,
      "outputs": [
        {
          "output_type": "stream",
          "name": "stdout",
          "text": [
            "Número de estudantes por gênero:\n",
            "female: 518\n",
            "male: 482\n"
          ]
        }
      ]
    },
    {
      "cell_type": "code",
      "source": [
        "import matplotlib.pyplot as plt\n",
        "\n",
        "# Contagem por gênero\n",
        "contagem = {}\n",
        "for aluno in dados:\n",
        "    genero = aluno['gender']\n",
        "    contagem[genero] = contagem.get(genero, 0) + 1\n",
        "\n",
        "# Dados\n",
        "generos = list(contagem.keys())\n",
        "quantidades = list(contagem.values())\n",
        "total = sum(quantidades)\n",
        "\n",
        "# Criar labels com % e números absolutos\n",
        "labels = [f'{genero}\\n({qtd} estudantes, {qtd/total*100:.1f}%)'\n",
        "          for genero, qtd in zip(generos, quantidades)]\n",
        "\n",
        "# Gráfico\n",
        "plt.figure(figsize=(8, 8))\n",
        "plt.pie(quantidades, labels=labels, colors=['#F39200','#005CA9'], startangle=90)\n",
        "plt.title('Distribuição de Estudantes por Gênero', size=14, weight='bold', pad=20)\n",
        "plt.show()"
      ],
      "metadata": {
        "colab": {
          "base_uri": "https://localhost:8080/",
          "height": 696
        },
        "id": "AQSucDujpRhU",
        "outputId": "3860a8ca-1bf7-4f25-aaab-1af5f7252b6f"
      },
      "execution_count": null,
      "outputs": [
        {
          "output_type": "display_data",
          "data": {
            "text/plain": [
              "<Figure size 800x800 with 1 Axes>"
            ],
            "image/png": "[encoded data removed]"
          },
          "metadata": {}
        }
      ]
    },
    {
      "cell_type": "code",
      "source": [
        "# Média das notas de matemática por gênero\n",
        "medias = {}\n",
        "contagens = {}\n",
        "\n",
        "for aluno in dados:\n",
        "    genero = aluno['gender']\n",
        "    nota_math = aluno['math score']\n",
        "\n",
        "    # Converter para número, ignorando valores inválidos\n",
        "    try:\n",
        "        nota = int(nota_math)\n",
        "        if genero not in medias:\n",
        "            medias[genero] = 0\n",
        "            contagens[genero] = 0\n",
        "\n",
        "        medias[genero] += nota\n",
        "        contagens[genero] += 1\n",
        "    except (ValueError, TypeError):\n",
        "        continue\n",
        "\n",
        "# Calcular as médias finais\n",
        "print(\"Média das notas de Matemática por Gênero:\")\n",
        "for genero in medias:\n",
        "    media = medias[genero] / contagens[genero]\n",
        "    print(f\"{genero}: {media:.2f} pontos\")"
      ],
      "metadata": {
        "colab": {
          "base_uri": "https://localhost:8080/"
        },
        "id": "eGGx8BV3pW8W",
        "outputId": "4a3d4c59-2ea7-4400-a35c-4931841b1b95"
      },
      "execution_count": null,
      "outputs": [
        {
          "output_type": "stream",
          "name": "stdout",
          "text": [
            "Média das notas de Matemática por Gênero:\n",
            "female: 63.63 pontos\n",
            "male: 68.73 pontos\n"
          ]
        }
      ]
    },
    {
      "cell_type": "code",
      "source": [
        "# Média das notas de leitura por gênero\n",
        "medias = {}\n",
        "contagens = {}\n",
        "\n",
        "for aluno in dados:\n",
        "    genero = aluno['gender']\n",
        "    nota_math = aluno['reading score']\n",
        "\n",
        "    # Converter para número, ignorando valores inválidos\n",
        "    try:\n",
        "        nota = int(nota_math)\n",
        "        if genero not in medias:\n",
        "            medias[genero] = 0\n",
        "            contagens[genero] = 0\n",
        "\n",
        "        medias[genero] += nota\n",
        "        contagens[genero] += 1\n",
        "    except (ValueError, TypeError):\n",
        "        continue\n",
        "\n",
        "# Calcular as médias finais\n",
        "print(\"Média das notas de Leitura por Gênero:\")\n",
        "for genero in medias:\n",
        "    media = medias[genero] / contagens[genero]\n",
        "    print(f\"{genero}: {media:.2f} pontos\")"
      ],
      "metadata": {
        "colab": {
          "base_uri": "https://localhost:8080/"
        },
        "id": "7Go6zBJvp93u",
        "outputId": "61eb4476-21a2-454f-9951-92fe2483472f"
      },
      "execution_count": null,
      "outputs": [
        {
          "output_type": "stream",
          "name": "stdout",
          "text": [
            "Média das notas de Leitura por Gênero:\n",
            "female: 72.61 pontos\n",
            "male: 65.47 pontos\n"
          ]
        }
      ]
    },
    {
      "cell_type": "code",
      "source": [
        "# Média das notas de redação por gênero\n",
        "medias = {}\n",
        "contagens = {}\n",
        "\n",
        "for aluno in dados:\n",
        "    genero = aluno['gender']\n",
        "    nota_math = aluno['writing score']\n",
        "\n",
        "    # Converter para número, ignorando valores inválidos\n",
        "    try:\n",
        "        nota = int(nota_math)\n",
        "        if genero not in medias:\n",
        "            medias[genero] = 0\n",
        "            contagens[genero] = 0\n",
        "\n",
        "        medias[genero] += nota\n",
        "        contagens[genero] += 1\n",
        "    except (ValueError, TypeError):\n",
        "        continue\n",
        "\n",
        "# Calcular as médias finais\n",
        "print(\"Média das notas de Redação por Gênero:\")\n",
        "for genero in medias:\n",
        "    media = medias[genero] / contagens[genero]\n",
        "    print(f\"{genero}: {media:.2f} pontos\")"
      ],
      "metadata": {
        "colab": {
          "base_uri": "https://localhost:8080/"
        },
        "id": "ihVNkWgIqFqZ",
        "outputId": "49120b47-4b8e-4a90-cb76-a627a4cbd3ec"
      },
      "execution_count": null,
      "outputs": [
        {
          "output_type": "stream",
          "name": "stdout",
          "text": [
            "Média das notas de Redação por Gênero:\n",
            "female: 72.47 pontos\n",
            "male: 63.31 pontos\n"
          ]
        }
      ]
    },
    {
      "cell_type": "markdown",
      "source": [
        "As mulheres possuem uma clara vantagem em relação aos homens quando se trata de dsiciplinas de linguagens, porém os homens possuem uma nota um pouco maior quando se trata de matemática, podemos ainda realizar um teste para identificar se essa diferença é significativa a nível de 5% de confiança"
      ],
      "metadata": {
        "id": "7KdfOdjSqWb3"
      }
    },
    {
      "cell_type": "code",
      "source": [
        "from scipy import stats\n",
        "import numpy as np\n",
        "\n",
        "# Separar as notas de matemática por gênero\n",
        "notas_female = []\n",
        "notas_male = []\n",
        "\n",
        "for aluno in dados:\n",
        "    try:\n",
        "        genero = aluno['gender']\n",
        "        nota = int(aluno['math score'])\n",
        "        if genero == 'female':\n",
        "            notas_female.append(nota)\n",
        "        elif genero == 'male':\n",
        "            notas_male.append(nota)\n",
        "    except (ValueError, TypeError):\n",
        "        continue\n",
        "\n",
        "# Teste t para amostras independentes\n",
        "t_stat, p_value = stats.ttest_ind(notas_male, notas_female, equal_var=False)\n",
        "print(\"t-statistic:\", t_stat)\n",
        "print(\"p-value:\", p_value)"
      ],
      "metadata": {
        "colab": {
          "base_uri": "https://localhost:8080/"
        },
        "id": "ozdoKu-wqVgU",
        "outputId": "b37209c7-a11e-4ef4-b8eb-57e6f6845e79"
      },
      "execution_count": null,
      "outputs": [
        {
          "output_type": "stream",
          "name": "stdout",
          "text": [
            "t-statistic: 5.398000564160736\n",
            "p-value: 8.420838109090415e-08\n"
          ]
        }
      ]
    },
    {
      "cell_type": "markdown",
      "source": [
        "Considerando o esse p-valor podemos afirmar que sim há evidências que a diferença de médias de matemática entre gêneros é significativa."
      ],
      "metadata": {
        "id": "6yVjyFy8rFWi"
      }
    },
    {
      "cell_type": "markdown",
      "source": [
        "Ainda trabalhando com gênero eu quero saber ainda qual como estão distribuidos o caso de educação dos pais de meninas e meninos, então eu vou fazer um filtro para filtrar apenas meninas e depois um para filtrar apenas meninos e verificar a distribuição de educação dos pais\n"
      ],
      "metadata": {
        "id": "rPmwzvcYrku0"
      }
    },
    {
      "cell_type": "code",
      "source": [
        "# Ordem hierárquica\n",
        "ordem_educacao = [\n",
        "    'some high school',\n",
        "    'high school',\n",
        "    'some college',\n",
        "    \"associate's degree\",\n",
        "    \"bachelor's degree\",\n",
        "    \"master's degree\"\n",
        "]\n",
        "\n"
      ],
      "metadata": {
        "id": "k9t3Gp54tUx2"
      },
      "execution_count": null,
      "outputs": []
    },
    {
      "cell_type": "code",
      "source": [
        "from collections import Counter"
      ],
      "metadata": {
        "id": "pnHC6G7ptkOR"
      },
      "execution_count": null,
      "outputs": []
    },
    {
      "cell_type": "code",
      "source": [
        "meninos = filter(lambda x: x['gender'] == 'male', dados)\n",
        "meninos = list (meninos)\n",
        "# Contagem na ordem correta\n",
        "contagem = Counter(aluno['parental level of education'] for aluno in meninos)\n",
        "quantidades = [contagem[edu] for edu in ordem_educacao]\n"
      ],
      "metadata": {
        "id": "gSJIhq46rf6w"
      },
      "execution_count": null,
      "outputs": []
    },
    {
      "cell_type": "code",
      "source": [
        "print(\"Distribuição por Educação dos Pais (Ordem Crescente) para Meninos:\")\n",
        "for educacao in ordem_educacao:\n",
        "    if educacao in contagem:\n",
        "        qtd = contagem[educacao]\n",
        "        pct = (qtd / len(meninos)) * 100\n",
        "        print(f\"• {educacao}: {qtd} estudantes ({pct:.1f}%)\")\n"
      ],
      "metadata": {
        "colab": {
          "base_uri": "https://localhost:8080/"
        },
        "id": "8O-gOsXXsqk7",
        "outputId": "b33f3fe0-c704-4941-cc9c-59ea8509d4fe"
      },
      "execution_count": null,
      "outputs": [
        {
          "output_type": "stream",
          "name": "stdout",
          "text": [
            "Distribuição por Educação dos Pais (Ordem Crescente):\n",
            "============================================================\n",
            "• some high school: 88 estudantes (18.3%)\n",
            "• high school: 102 estudantes (21.2%)\n",
            "• some college: 108 estudantes (22.4%)\n",
            "• associate's degree: 106 estudantes (22.0%)\n",
            "• bachelor's degree: 55 estudantes (11.4%)\n",
            "• master's degree: 23 estudantes (4.8%)\n"
          ]
        }
      ]
    },
    {
      "cell_type": "code",
      "source": [
        "meninas = filter(lambda x: x['gender'] == 'female', dados)\n",
        "meninas = list (meninas)\n",
        "# Contagem na ordem correta\n",
        "contagem = Counter(aluno['parental level of education'] for aluno in meninas)\n",
        "quantidades = [contagem[edu] for edu in ordem_educacao]\n",
        "\n",
        "print(\"Distribuição por Educação dos Pais (Ordem Crescente) para Meninas:\")\n",
        "for educacao in ordem_educacao:\n",
        "    if educacao in contagem:\n",
        "        qtd = contagem[educacao]\n",
        "        pct = (qtd / len(meninas)) * 100\n",
        "        print(f\"• {educacao}: {qtd} estudantes ({pct:.1f}%)\")\n"
      ],
      "metadata": {
        "colab": {
          "base_uri": "https://localhost:8080/"
        },
        "id": "eeqTuQUxuE3Q",
        "outputId": "2ba60aaa-ee8b-44ad-9e4b-ce84e3edcc72"
      },
      "execution_count": null,
      "outputs": [
        {
          "output_type": "stream",
          "name": "stdout",
          "text": [
            "Distribuição por Educação dos Pais (Ordem Crescente) para Meninas:\n",
            "• some high school: 91 estudantes (17.6%)\n",
            "• high school: 94 estudantes (18.1%)\n",
            "• some college: 118 estudantes (22.8%)\n",
            "• associate's degree: 116 estudantes (22.4%)\n",
            "• bachelor's degree: 63 estudantes (12.2%)\n",
            "• master's degree: 36 estudantes (6.9%)\n"
          ]
        }
      ]
    },
    {
      "cell_type": "markdown",
      "source": [
        "De modo geral é tudo muito similhar ao da população em geral mesmo como veremos mais a frente"
      ],
      "metadata": {
        "id": "s86AC6ukuUCF"
      }
    },
    {
      "cell_type": "markdown",
      "source": [
        "## Estudo por Etnia"
      ],
      "metadata": {
        "id": "AYCdzs8yua6p"
      }
    },
    {
      "cell_type": "code",
      "source": [
        "dados[0].keys()"
      ],
      "metadata": {
        "colab": {
          "base_uri": "https://localhost:8080/"
        },
        "id": "ClwBjHT2u5dQ",
        "outputId": "6f094472-4d61-4880-e246-e13c306783cb"
      },
      "execution_count": null,
      "outputs": [
        {
          "output_type": "execute_result",
          "data": {
            "text/plain": [
              "dict_keys(['gender', 'race/ethnicity', 'parental level of education', 'lunch', 'test preparation course', 'math score', 'reading score', 'writing score', 'student_id'])"
            ]
          },
          "metadata": {},
          "execution_count": 163
        }
      ]
    },
    {
      "cell_type": "code",
      "source": [
        "### Contagem por Etnia\n",
        "grupos_etnicos = [\"group A\",\n",
        "                  \"group B\",\n",
        "                  \"group C\",\n",
        "                  \"group D\",\n",
        "                  \"group E\"]\n",
        "\n",
        "\n",
        "contagem_etnia = Counter(aluno['race/ethnicity'] for aluno in dados)\n",
        "quantidades = [contagem_etnia[etnia] for etnia in grupos_etnicos]\n",
        "\n",
        "\n",
        "print(\"Distribuição por Etnia:\")\n",
        "for etnia in grupos_etnicos:\n",
        "    if etnia in contagem_etnia:\n",
        "        qtd = contagem_etnia[etnia]\n",
        "        pct = (qtd / len(dados)) * 100\n",
        "        print(f\"• {etnia}: {qtd} estudantes ({pct:.1f}%)\")\n"
      ],
      "metadata": {
        "colab": {
          "base_uri": "https://localhost:8080/"
        },
        "id": "YQeTqyrNug19",
        "outputId": "d26c54cf-d93f-408f-efbe-3d17767edc15"
      },
      "execution_count": null,
      "outputs": [
        {
          "output_type": "stream",
          "name": "stdout",
          "text": [
            "Distribuição por Etnia:\n",
            "• group A: 89 estudantes (8.9%)\n",
            "• group B: 190 estudantes (19.0%)\n",
            "• group C: 319 estudantes (31.9%)\n",
            "• group D: 262 estudantes (26.2%)\n",
            "• group E: 140 estudantes (14.0%)\n"
          ]
        }
      ]
    },
    {
      "cell_type": "markdown",
      "source": [
        "o Grupo A é o que tem menor representatividade nos dados enquanto o Grupo C é com maior"
      ],
      "metadata": {
        "id": "wt600wm_wWsT"
      }
    },
    {
      "cell_type": "markdown",
      "source": [
        "## Estudo a respeito da escolaridade dos pais"
      ],
      "metadata": {
        "id": "zB2nF9Xtw8q3"
      }
    },
    {
      "cell_type": "code",
      "source": [
        "# Ordem hierárquica\n",
        "ordem_educacao = [\n",
        "    'some high school',\n",
        "    'high school',\n",
        "    'some college',\n",
        "    \"associate's degree\",\n",
        "    \"bachelor's degree\",\n",
        "    \"master's degree\"\n",
        "]\n",
        "\n",
        "# Contagem na ordem correta\n",
        "contagem = Counter(aluno['parental level of education'] for aluno in dados)\n",
        "quantidades = [contagem[edu] for edu in ordem_educacao]\n",
        "\n",
        "# Gráfico ordenado\n",
        "plt.figure(figsize=(12, 6))\n",
        "bars = plt.bar(ordem_educacao, quantidades, color='#005CA9')\n",
        "\n",
        "# Adicionar valores\n",
        "for bar, quantidade in zip(bars, quantidades):\n",
        "    plt.text(bar.get_x() + bar.get_width()/2, bar.get_height() + 5,\n",
        "             f'{quantidade}', ha='center', va='bottom', fontweight='bold')\n",
        "\n",
        "plt.title('Distribuição por Educação dos Pais\\n(Ordem Crescente de Escolaridade)',\n",
        "          size=14, weight='bold', pad=20)\n",
        "plt.xlabel('Nível de Educação dos Pais')\n",
        "plt.ylabel('Número de Estudantes')\n",
        "plt.xticks(rotation=45, ha='right')\n",
        "plt.grid(axis='y', alpha=0.3)\n",
        "plt.tight_layout()\n",
        "plt.show()\n",
        "\n",
        "# Console ordenado\n",
        "print(\"Distribuição por Educação dos Pais (Ordem Crescente):\")\n",
        "print(\"=\" * 60)\n",
        "for educacao in ordem_educacao:\n",
        "    if educacao in contagem:\n",
        "        qtd = contagem[educacao]\n",
        "        pct = (qtd / len(dados)) * 100\n",
        "        print(f\"• {educacao}: {qtd} estudantes ({pct:.1f}%)\")\n"
      ],
      "metadata": {
        "colab": {
          "base_uri": "https://localhost:8080/",
          "height": 745
        },
        "id": "zQqf93gawx60",
        "outputId": "8dca8be6-9dd4-46bc-e6be-fcca9d1b8eb2"
      },
      "execution_count": null,
      "outputs": [
        {
          "output_type": "display_data",
          "data": {
            "text/plain": [
              "<Figure size 1200x600 with 1 Axes>"
            ],
            "image/png": "[encoded data removed]"
          },
          "metadata": {}
        },
        {
          "output_type": "stream",
          "name": "stdout",
          "text": [
            "Distribuição por Educação dos Pais (Ordem Crescente):\n",
            "============================================================\n",
            "• some high school: 179 estudantes (17.9%)\n",
            "• high school: 196 estudantes (19.6%)\n",
            "• some college: 226 estudantes (22.6%)\n",
            "• associate's degree: 222 estudantes (22.2%)\n",
            "• bachelor's degree: 118 estudantes (11.8%)\n",
            "• master's degree: 59 estudantes (5.9%)\n"
          ]
        }
      ]
    },
    {
      "cell_type": "markdown",
      "source": [
        "Vamos fazer uma investigaçãos se as notas dos alunos sofrem diferença para diferentes escolaridades dos pais para questão de matemática"
      ],
      "metadata": {
        "id": "xWyc8hCxySjp"
      }
    },
    {
      "cell_type": "code",
      "source": [
        "import seaborn as sns\n",
        "import pandas as pd\n",
        "\n",
        "# Preparar dados para seaborn\n",
        "dados_math = []\n",
        "for aluno in dados:\n",
        "    try:\n",
        "        educacao = aluno['parental level of education']\n",
        "        nota = int(aluno['math score'])\n",
        "        dados_math.append({'parental_education': educacao, 'math_score': nota})\n",
        "    except (ValueError, TypeError):\n",
        "        continue\n",
        "\n",
        "df_math = pd.DataFrame(dados_math)\n",
        "\n",
        "# Ordenar o DataFrame pela hierarquia educacional\n",
        "ordem_educacao = [\n",
        "    'some high school',\n",
        "    'high school',\n",
        "    'some college',\n",
        "    \"associate's degree\",\n",
        "    \"bachelor's degree\",\n",
        "    \"master's degree\"\n",
        "]\n",
        "\n",
        "df_math['parental_education'] = pd.Categorical(\n",
        "    df_math['parental_education'],\n",
        "    categories=ordem_educacao,\n",
        "    ordered=True\n",
        ")\n",
        "\n",
        "# Criar boxplot com seaborn\n",
        "plt.figure(figsize=(12, 8))\n",
        "sns.boxplot(data=df_math, x='parental_education', y='math_score',\n",
        "            palette=['#005CA9'])\n",
        "\n",
        "plt.title('Notas de Matemática por Escolaridade dos Pais',\n",
        "          size=16, weight='bold', pad=20)\n",
        "plt.xlabel('Nível de Educação dos Pais', size=12, weight='bold')\n",
        "plt.ylabel('Nota de Matemática', size=12, weight='bold')\n",
        "plt.xticks(rotation=45, ha='right')\n",
        "plt.grid(axis='y', alpha=0.3)\n",
        "\n",
        "# Adicionar médias no gráfico\n",
        "medias = df_math.groupby('parental_education')['math_score'].mean()\n",
        "for i, (educacao, media) in enumerate(medias.items()):\n",
        "    plt.text(i, media + 0.5, f'{media:.1f}',\n",
        "             ha='center', va='bottom', fontsize=11, weight='bold', color='red')\n",
        "\n",
        "plt.tight_layout()\n",
        "plt.show()\n",
        "\n",
        "# Mostrar estatísticas descritivas\n",
        "print(\"\\n\" + \"=\"*60)\n",
        "print(\"ESTATÍSTICAS DESCRITIVAS - MATEMÁTICA POR ESCOLARIDADE DOS PAIS\")\n",
        "print(\"=\"*60)\n",
        "stats = df_math.groupby('parental_education')['math_score'].agg(['count', 'mean', 'std', 'min', 'max'])\n",
        "print(stats.round(2))"
      ],
      "metadata": {
        "colab": {
          "base_uri": "https://localhost:8080/",
          "height": 1000
        },
        "id": "Y1T9Cd81xYgx",
        "outputId": "aad0e5f8-a6bc-464e-a2ca-6a5ceed18b54"
      },
      "execution_count": null,
      "outputs": [
        {
          "output_type": "stream",
          "name": "stderr",
          "text": [
            "/tmp/ipython-input-3195970903.py:34: FutureWarning: \n",
            "\n",
            "Passing `palette` without assigning `hue` is deprecated and will be removed in v0.14.0. Assign the `x` variable to `hue` and set `legend=False` for the same effect.\n",
            "\n",
            "  sns.boxplot(data=df_math, x='parental_education', y='math_score',\n",
            "/tmp/ipython-input-3195970903.py:34: UserWarning: \n",
            "The palette list has fewer values (1) than needed (6) and will cycle, which may produce an uninterpretable plot.\n",
            "  sns.boxplot(data=df_math, x='parental_education', y='math_score',\n",
            "/tmp/ipython-input-3195970903.py:45: FutureWarning: The default of observed=False is deprecated and will be changed to True in a future version of pandas. Pass observed=False to retain current behavior or observed=True to adopt the future default and silence this warning.\n",
            "  medias = df_math.groupby('parental_education')['math_score'].mean()\n"
          ]
        },
        {
          "output_type": "display_data",
          "data": {
            "text/plain": [
              "<Figure size 1200x800 with 1 Axes>"
            ],
            "image/png": "[encoded data removed]"
          },
          "metadata": {}
        },
        {
          "output_type": "stream",
          "name": "stdout",
          "text": [
            "\n",
            "============================================================\n",
            "ESTATÍSTICAS DESCRITIVAS - MATEMÁTICA POR ESCOLARIDADE DOS PAIS\n",
            "============================================================\n",
            "                    count   mean    std  min  max\n",
            "parental_education                               \n",
            "some high school      179  63.50  15.93    0   97\n",
            "high school           196  62.14  14.54    8   99\n",
            "some college          226  67.13  14.31   19  100\n",
            "associate's degree    222  67.88  15.11   26  100\n",
            "bachelor's degree     118  69.39  14.94   29  100\n",
            "master's degree        59  69.75  15.15   40   95\n"
          ]
        },
        {
          "output_type": "stream",
          "name": "stderr",
          "text": [
            "/tmp/ipython-input-3195970903.py:57: FutureWarning: The default of observed=False is deprecated and will be changed to True in a future version of pandas. Pass observed=False to retain current behavior or observed=True to adopt the future default and silence this warning.\n",
            "  stats = df_math.groupby('parental_education')['math_score'].agg(['count', 'mean', 'std', 'min', 'max'])\n"
          ]
        }
      ]
    },
    {
      "cell_type": "markdown",
      "source": [
        "## Estudo por alunos que fizeram preparação para o test ou não"
      ],
      "metadata": {
        "id": "vNibz0cay4eI"
      }
    },
    {
      "cell_type": "code",
      "source": [
        "import matplotlib.pyplot as plt\n",
        "import numpy as np\n",
        "import pandas as pd\n",
        "\n",
        "# Análise estatística mais detalhada\n",
        "print(\"\\n\" + \"=\"*60)\n",
        "print(\"ANÁLISE ESTATÍSTICA DETALHADA\")\n",
        "print(\"=\"*60)\n",
        "\n",
        "# Preparar dados para análise\n",
        "dados_prep = []\n",
        "for aluno in dados:\n",
        "    try:\n",
        "        prep = aluno['test preparation course']\n",
        "        nota_math = int(aluno['math score'])\n",
        "        nota_reading = int(aluno['reading score'])\n",
        "        nota_writing = int(aluno['writing score'])\n",
        "        dados_prep.append({\n",
        "            'preparation': prep,\n",
        "            'math_score': nota_math,\n",
        "            'reading_score': nota_reading,\n",
        "            'writing_score': nota_writing\n",
        "        })\n",
        "    except (ValueError, TypeError):\n",
        "        continue\n",
        "\n",
        "df_prep = pd.DataFrame(dados_prep)\n",
        "\n",
        "# Estatísticas descritivas por matéria\n",
        "print(\"\\nMÉDIAS POR MATÉRIA E PREPARAÇÃO:\")\n",
        "stats_math = df_prep.groupby('preparation')['math_score'].agg(['count', 'mean', 'std', 'min', 'max'])\n",
        "stats_reading = df_prep.groupby('preparation')['reading_score'].agg(['count', 'mean', 'std', 'min', 'max'])\n",
        "stats_writing = df_prep.groupby('preparation')['writing_score'].agg(['count', 'mean', 'std', 'min', 'max'])\n",
        "\n",
        "print(\"\\nMATEMÁTICA:\")\n",
        "print(stats_math.round(2))\n",
        "print(\"\\nLEITURA:\")\n",
        "print(stats_reading.round(2))\n",
        "print(\"\\nESCRITA:\")\n",
        "print(stats_writing.round(2))\n",
        "\n",
        "# Teste de diferença de médias\n",
        "from scipy import stats\n",
        "\n",
        "print(\"\\n\" + \"=\"*60)\n",
        "print(\"TESTE DE DIFERENÇA DE MÉDIAS (completou vs não completou)\")\n",
        "print(\"=\"*60)\n",
        "\n",
        "# Separar grupos\n",
        "grupo_none = df_prep[df_prep['preparation'] == 'none']\n",
        "grupo_completed = df_prep[df_prep['preparation'] == 'completed']\n",
        "\n",
        "# Teste t para cada matéria\n",
        "materias = ['math_score', 'reading_score', 'writing_score']\n",
        "for materia in materias:\n",
        "    t_stat, p_value = stats.ttest_ind(grupo_completed[materia], grupo_none[materia], equal_var=False)\n",
        "    diff_media = grupo_completed[materia].mean() - grupo_none[materia].mean()\n",
        "\n",
        "    print(f\"\\n{materia.upper().replace('_', ' ')}:\")\n",
        "    print(f\"  Diferença de médias: {diff_media:.2f}\")\n",
        "    print(f\"  t-statistic: {t_stat:.4f}\")\n",
        "    print(f\"  p-value: {p_value:.6f}\")\n",
        "    if p_value < 0.05:\n",
        "        print(f\"SIGNIFICATIVO (p < 0.05)\")\n",
        "    else:\n",
        "        print(f\"NÃO SIGNIFICATIVO (p ≥ 0.05)\")\n",
        "\n",
        "# Gráfico comparativo para as três matérias\n",
        "fig, axes = plt.subplots(1, 3, figsize=(15, 5))\n",
        "materias = ['math_score', 'reading_score', 'writing_score']\n",
        "titulos = ['Matemática', 'Leitura', 'Escrita']\n",
        "cores = ['#005CA9', '#F39200']\n",
        "\n",
        "for i, (materia, titulo) in enumerate(zip(materias, titulos)):\n",
        "    dados_plot = [grupo_none[materia], grupo_completed[materia]]\n",
        "    box = axes[i].boxplot(dados_plot, labels=['Não', 'Sim'], patch_artist=True)\n",
        "\n",
        "    for patch, color in zip(box['boxes'], cores):\n",
        "        patch.set_facecolor(color)\n",
        "        patch.set_alpha(0.7)\n",
        "\n",
        "    axes[i].set_title(f'Notas de {titulo}\\npor Preparação', weight='bold')\n",
        "    axes[i].set_xlabel('Completou Preparação?')\n",
        "    axes[i].set_ylabel('Nota')\n",
        "    axes[i].grid(axis='y', alpha=0.3)\n",
        "\n",
        "plt.tight_layout()\n",
        "plt.show()"
      ],
      "metadata": {
        "colab": {
          "base_uri": "https://localhost:8080/",
          "height": 1000
        },
        "id": "36HVg3Gby_6V",
        "outputId": "0b881ca3-27d0-4ed9-cadf-d9f11deb3252"
      },
      "execution_count": null,
      "outputs": [
        {
          "output_type": "stream",
          "name": "stdout",
          "text": [
            "\n",
            "============================================================\n",
            "ANÁLISE ESTATÍSTICA DETALHADA\n",
            "============================================================\n",
            "\n",
            "MÉDIAS POR MATÉRIA E PREPARAÇÃO:\n",
            "\n",
            "MATEMÁTICA:\n",
            "             count   mean    std  min  max\n",
            "preparation                               \n",
            "completed      358  69.70  14.44   23  100\n",
            "none           642  64.08  15.19    0  100\n",
            "\n",
            "LEITURA:\n",
            "             count   mean    std  min  max\n",
            "preparation                               \n",
            "completed      358  73.89  13.64   37  100\n",
            "none           642  66.53  14.46   17  100\n",
            "\n",
            "ESCRITA:\n",
            "             count   mean    std  min  max\n",
            "preparation                               \n",
            "completed      358  74.42  13.38   36  100\n",
            "none           642  64.50  15.00   10  100\n",
            "\n",
            "============================================================\n",
            "TESTE DE DIFERENÇA DE MÉDIAS (completou vs não completou)\n",
            "============================================================\n",
            "\n",
            "MATH SCORE:\n",
            "  Diferença de médias: 5.62\n",
            "  t-statistic: 5.7870\n",
            "  p-value: 0.000000\n",
            "SIGNIFICATIVO (p < 0.05)\n",
            "\n",
            "READING SCORE:\n",
            "  Diferença de médias: 7.36\n",
            "  t-statistic: 8.0041\n",
            "  p-value: 0.000000\n",
            "SIGNIFICATIVO (p < 0.05)\n",
            "\n",
            "WRITING SCORE:\n",
            "  Diferença de médias: 9.91\n",
            "  t-statistic: 10.7525\n",
            "  p-value: 0.000000\n",
            "SIGNIFICATIVO (p < 0.05)\n"
          ]
        },
        {
          "output_type": "stream",
          "name": "stderr",
          "text": [
            "/tmp/ipython-input-2171616436.py:76: MatplotlibDeprecationWarning: The 'labels' parameter of boxplot() has been renamed 'tick_labels' since Matplotlib 3.9; support for the old name will be dropped in 3.11.\n",
            "  box = axes[i].boxplot(dados_plot, labels=['Não', 'Sim'], patch_artist=True)\n",
            "/tmp/ipython-input-2171616436.py:76: MatplotlibDeprecationWarning: The 'labels' parameter of boxplot() has been renamed 'tick_labels' since Matplotlib 3.9; support for the old name will be dropped in 3.11.\n",
            "  box = axes[i].boxplot(dados_plot, labels=['Não', 'Sim'], patch_artist=True)\n",
            "/tmp/ipython-input-2171616436.py:76: MatplotlibDeprecationWarning: The 'labels' parameter of boxplot() has been renamed 'tick_labels' since Matplotlib 3.9; support for the old name will be dropped in 3.11.\n",
            "  box = axes[i].boxplot(dados_plot, labels=['Não', 'Sim'], patch_artist=True)\n"
          ]
        },
        {
          "output_type": "display_data",
          "data": {
            "text/plain": [
              "<Figure size 1500x500 with 3 Axes>"
            ],
            "image/png": "[encoded data removed]"
          },
          "metadata": {}
        }
      ]
    }
  ]
}